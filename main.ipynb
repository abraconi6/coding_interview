{
 "cells": [
  {
   "cell_type": "code",
   "execution_count": null,
   "metadata": {},
   "outputs": [],
   "source": [
    "import pandas as pd\n",
    "import numpy as np"
   ]
  },
  {
   "cell_type": "code",
   "execution_count": null,
   "metadata": {},
   "outputs": [],
   "source": [
    "# TASK 1 \n",
    "\n",
    "contracts = pd.read_csv('./contracts/Contracts.csv')\n",
    "\n",
    "fuel_gda = pd.read_csv('./fuelPrices/GDA_TETSTX.csv')\n",
    "fuel_henry = pd.read_csv('./fuelPrices/Henry Hub.csv')\n",
    "\n",
    "plant_params = pd.read_csv('./plantParameters/Plant_Parameters.csv')\n",
    "\n",
    "power_2016 = pd.read_csv('./powerPrices/ERCOT_DA_Prices_2016.csv')\n",
    "power_2017 = pd.read_csv('./powerPrices/ERCOT_DA_Prices_2017.csv')\n",
    "power_2018 = pd.read_csv('./powerPrices/ERCOT_DA_Prices_2018.csv')\n",
    "power_2019 = pd.read_csv('./powerPrices/ERCOT_DA_Prices_2019.csv')\n"
   ]
  },
  {
   "cell_type": "code",
   "execution_count": null,
   "metadata": {},
   "outputs": [],
   "source": [
    "fuel_combined = pd.concat([fuel_gda, fuel_henry], axis = 0)\n",
    "print(fuel_combined.to_string())"
   ]
  },
  {
   "cell_type": "code",
   "execution_count": null,
   "metadata": {},
   "outputs": [],
   "source": [
    "power_combined = pd.concat([power_2016, power_2017, power_2018, power_2019], axis = 0)\n",
    "power_combined['Date'] = pd.to_datetime(power_combined['Date'], format=\"%Y-%m-%d %H:%M:%S\")\n",
    "print(power_combined.head(100).to_string())\n",
    "print(power_combined.tail(100).to_string())"
   ]
  },
  {
   "cell_type": "code",
   "execution_count": null,
   "metadata": {},
   "outputs": [],
   "source": [
    "power_combined.SettlementPoint.unique() "
   ]
  },
  {
   "cell_type": "code",
   "execution_count": null,
   "metadata": {},
   "outputs": [],
   "source": [
    "power_combined['year'] = power_combined.apply(lambda row: row['Date'].year, axis=1)\n",
    "power_combined['month'] = power_combined.apply(lambda row: row['Date'].month, axis=1)\n",
    "print(power_combined.head(10).to_string())\n",
    "print(power_combined.size)"
   ]
  },
  {
   "cell_type": "code",
   "execution_count": null,
   "metadata": {},
   "outputs": [],
   "source": [
    "# TASK 2\n",
    "\n",
    "grouped = power_combined.groupby(\n",
    "    ['SettlementPoint', 'year', 'month']\n",
    ").agg({'Price':['mean', 'min', 'max', 'std']})\n",
    "\n",
    "print(grouped.to_string())\n",
    "# NOTE: hb_pan contains only 2019 "
   ]
  },
  {
   "cell_type": "code",
   "execution_count": null,
   "metadata": {},
   "outputs": [],
   "source": [
    "# TASK 3 \n",
    "\n",
    "power_combined['Pct Change'] = power_combined.groupby(\n",
    "    'SettlementPoint')['Price'].pct_change(1)\n",
    "power_combined = power_combined.replace([np.inf, -np.inf], np.nan)\n",
    "power_combined = power_combined.dropna()"
   ]
  },
  {
   "cell_type": "code",
   "execution_count": null,
   "metadata": {},
   "outputs": [],
   "source": [
    "power_combined['Log Returns'] = np.log(1+power_combined['Pct Change'])"
   ]
  },
  {
   "cell_type": "code",
   "execution_count": null,
   "metadata": {},
   "outputs": [],
   "source": [
    "grouped = power_combined.groupby(\n",
    "    ['SettlementPoint', 'year', 'month']\n",
    ").agg({'Price':['mean', 'min', 'max', 'std'], 'Log Returns': ['std']})\n",
    "\n",
    "grouped\n",
    "\n",
    "# Volatility = Log Returns, std "
   ]
  },
  {
   "cell_type": "code",
   "execution_count": null,
   "metadata": {},
   "outputs": [],
   "source": [
    "# TASK 4 \n",
    "# had trouble renaming columns, log returns std is the volatility\n",
    "grouped.to_csv(\"MonthlyPowerPriceStatistics.csv\")"
   ]
  },
  {
   "cell_type": "code",
   "execution_count": null,
   "metadata": {},
   "outputs": [],
   "source": [
    "### "
   ]
  },
  {
   "cell_type": "code",
   "execution_count": null,
   "metadata": {},
   "outputs": [],
   "source": [
    "### CONTRACT VALUATION "
   ]
  },
  {
   "cell_type": "code",
   "execution_count": null,
   "metadata": {},
   "outputs": [],
   "source": [
    "### "
   ]
  },
  {
   "cell_type": "code",
   "execution_count": null,
   "metadata": {},
   "outputs": [],
   "source": [
    "# TASK 5 \n",
    "\n",
    "grouped_contracts = contracts.groupby(contracts.Granularity)\n",
    "daily_contracts = grouped_contracts.get_group(\"Daily\")\n",
    "hourly_contracts = grouped_contracts.get_group(\"Hourly\")               "
   ]
  },
  {
   "cell_type": "code",
   "execution_count": null,
   "metadata": {},
   "outputs": [],
   "source": [
    "daily_contracts"
   ]
  },
  {
   "cell_type": "code",
   "execution_count": null,
   "metadata": {},
   "outputs": [],
   "source": [
    "hourly_contracts"
   ]
  },
  {
   "cell_type": "code",
   "execution_count": null,
   "metadata": {
    "scrolled": true
   },
   "outputs": [],
   "source": [
    "daily_contracts['Date'] = [pd.date_range(s, e, freq='d') for s, e in \n",
    "                           zip(pd.to_datetime(daily_contracts['StartDate']), pd.to_datetime(daily_contracts['EndDate']))]\n",
    "daily_contracts = daily_contracts.explode('Date').drop(['StartDate', 'EndDate'], axis=1)\n",
    "daily_contracts['year'] = daily_contracts.apply(lambda row: row['Date'].year, axis=1)\n",
    "daily_contracts['month'] = daily_contracts.apply(lambda row: row['Date'].month, axis=1)\n",
    "daily_contracts"
   ]
  },
  {
   "cell_type": "code",
   "execution_count": null,
   "metadata": {},
   "outputs": [],
   "source": [
    "# TASKS 6 & 7 \n",
    "\n",
    "fuel_combined = pd.concat([fuel_gda, fuel_henry], axis = 0)\n",
    "fuel_combined['Date'] = pd.to_datetime(fuel_combined['Date'], format=\"%Y-%m-%d %H:%M:%S\")\n",
    "\n",
    "fuel_combined\n",
    "\n"
   ]
  },
  {
   "cell_type": "code",
   "execution_count": null,
   "metadata": {},
   "outputs": [],
   "source": [
    "daily_joined = daily_contracts.set_index(\"Date\").join(fuel_combined.set_index(\"Date\"))\n",
    "daily_joined_options = daily_joined[daily_joined['ContractName']=='O1']\n",
    "daily_joined_swaps = daily_joined[daily_joined['ContractName']=='S1']\n",
    "\n",
    "daily_joined_swaps['Payoff'] = (daily_joined_swaps['Price']-daily_joined_swaps['StrikePrice'])*daily_joined_swaps['Volume']\n",
    "daily_joined_options['Payoff'] = (daily_joined_options['Price']-daily_joined_options['StrikePrice'])*daily_joined_options['Volume']\n",
    "daily_joined_options['Payoff'] = daily_joined_options['Payoff'].where(daily_joined_options['Payoff'] > 0, 0)\n"
   ]
  },
  {
   "cell_type": "code",
   "execution_count": null,
   "metadata": {},
   "outputs": [],
   "source": [
    "daily_joined_options"
   ]
  },
  {
   "cell_type": "code",
   "execution_count": null,
   "metadata": {},
   "outputs": [],
   "source": [
    "daily_joined_swaps"
   ]
  },
  {
   "cell_type": "code",
   "execution_count": null,
   "metadata": {},
   "outputs": [],
   "source": [
    "power_combined = pd.concat([power_2016, power_2017, power_2018, power_2019], axis = 0)\n",
    "power_combined['Date'] = pd.to_datetime(power_combined['Date'], format=\"%Y-%m-%d %H:%M:%S\")\n",
    "\n",
    "hourly_contracts = grouped_contracts.get_group(\"Hourly\") \n",
    "\n",
    "hourly_contracts['Date'] = [pd.date_range(s, e, freq='d') for s, e in \n",
    "                           zip(pd.to_datetime(hourly_contracts['StartDate']), pd.to_datetime(hourly_contracts['EndDate']))]\n",
    "hourly_contracts = hourly_contracts.explode('Date').drop(['StartDate', 'EndDate'], axis=1)\n",
    "\n",
    "hourly_joined = hourly_contracts.set_index(\"Date\").join(power_combined.set_index(\"Date\"))\n",
    "\n",
    "hourly_joined_options = hourly_joined[hourly_joined['ContractName']=='O2']\n",
    "hourly_joined_swaps = hourly_joined[hourly_joined['ContractName']=='S2']\n",
    "\n",
    "hourly_joined_swaps['Payoff'] = (hourly_joined_swaps['Price']-hourly_joined_swaps['StrikePrice'])*hourly_joined_swaps['Volume']\n",
    "hourly_joined_options['Payoff'] = (hourly_joined_options['Price']-hourly_joined_options['StrikePrice'])*hourly_joined_options['Volume']\n",
    "hourly_joined_options['Payoff'] = hourly_joined_options['Payoff'].where(hourly_joined_options['Payoff'] > 0, 0)\n",
    "hourly_joined_options['Payoff'] = hourly_joined_options['Payoff']-(hourly_joined_options['Premium']*hourly_joined_options['Volume'])"
   ]
  },
  {
   "cell_type": "code",
   "execution_count": null,
   "metadata": {},
   "outputs": [],
   "source": [
    "hourly_joined_swaps"
   ]
  },
  {
   "cell_type": "code",
   "execution_count": null,
   "metadata": {},
   "outputs": [],
   "source": [
    "hourly_joined_options"
   ]
  },
  {
   "cell_type": "code",
   "execution_count": null,
   "metadata": {},
   "outputs": [],
   "source": [
    "# TASK 8 \n",
    "# need to group by contract type, year & month and sum payoff column \n",
    "\n",
    "# TASK 9 \n",
    "# take resulting dataframe from task 8 and task8_df.to_csv"
   ]
  }
 ],
 "metadata": {
  "kernelspec": {
   "display_name": "Python 3",
   "language": "python",
   "name": "python3"
  },
  "language_info": {
   "codemirror_mode": {
    "name": "ipython",
    "version": 3
   },
   "file_extension": ".py",
   "mimetype": "text/x-python",
   "name": "python",
   "nbconvert_exporter": "python",
   "pygments_lexer": "ipython3",
   "version": "3.8.5"
  }
 },
 "nbformat": 4,
 "nbformat_minor": 4
}
